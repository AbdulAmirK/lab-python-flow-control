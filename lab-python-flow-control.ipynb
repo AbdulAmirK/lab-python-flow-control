{
 "cells": [
  {
   "cell_type": "markdown",
   "id": "d3bfc191-8885-42ee-b0a0-bbab867c6f9f",
   "metadata": {
    "tags": []
   },
   "source": [
    "# Lab | Flow Control"
   ]
  },
  {
   "cell_type": "markdown",
   "id": "3851fcd1-cf98-4653-9c89-e003b7ec9400",
   "metadata": {},
   "source": [
    "## Exercise: Managing Customer Orders Optimized\n",
    "\n",
    "In the last lab, you were starting an online store that sells various products. To ensure smooth operations, you developed a program that manages customer orders and inventory.\n",
    "\n",
    "You did so without using flow control. Let's go a step further and improve this code.\n",
    "\n",
    "Follow the steps below to complete the exercise:\n",
    "\n",
    "1. Look at your code from the lab data structures, and improve repeated code with loops.\n",
    "\n",
    "2. Instead of asking the user to input the name of three products that a customer wants to order, do the following:\n",
    "    \n",
    "    a. Prompt the user to enter the name of a product that a customer wants to order.\n",
    "    \n",
    "    b. Add the product name to the \"customer_orders\" set.\n",
    "    \n",
    "    c. Ask the user if they want to add another product (yes/no).\n",
    "    \n",
    "    d. Continue the loop until the user does not want to add another product.\n",
    "\n",
    "3. Instead of updating the inventory by subtracting 1 from the quantity of each product, only do it for  the products that were ordered (those in \"customer_orders\")."
   ]
  },
  {
   "cell_type": "code",
   "execution_count": 4,
   "id": "4ea23107",
   "metadata": {},
   "outputs": [
    {
     "name": "stdout",
     "output_type": "stream",
     "text": [
      "Enter the quantity for t-shirt: 1\n",
      "Enter the quantity for mug: 2\n",
      "Enter the quantity for hat: 3\n",
      "Enter the quantity for book: 4\n",
      "Enter the quantity for keychain: 5\n",
      "{'t-shirt': 1, 'mug': 2, 'hat': 3, 'book': 4, 'keychain': 5}\n"
     ]
    }
   ],
   "source": [
    "products = [\"t-shirt\", \"mug\", \"hat\", \"book\", \"keychain\"]\n",
    "inventory = {}\n",
    "\n",
    "# Populate inventory with product quantities provided by the user\n",
    "for product in products:\n",
    "    quantity = int(input(f\"Enter the quantity for {product}: \"))\n",
    "    inventory[product] = quantity\n",
    "print(inventory)\n",
    "\n",
    "\n"
   ]
  },
  {
   "cell_type": "code",
   "execution_count": 5,
   "id": "15458a31",
   "metadata": {},
   "outputs": [
    {
     "name": "stdout",
     "output_type": "stream",
     "text": [
      "Please input the name of products from the following list: t-shirt, mug, hat, book, keychain\n",
      "Enter the product name: t-shirt\n",
      "Do you want to add another product? (yes/no): yes\n",
      "Enter the product name: mug\n",
      "Do you want to add another product? (yes/no): no\n",
      "Customer orders: {'t-shirt', 'mug'}\n"
     ]
    }
   ],
   "source": [
    "# Initialize an empty set for customer orders\n",
    "customer_orders = set()\n",
    "\n",
    "print(\"Please input the name of products from the following list: t-shirt, mug, hat, book, keychain\")\n",
    "\n",
    "\n",
    "# Loop to add product names to the customer_orders set based on user input\n",
    "while True:\n",
    "    product = input(\"Enter the product name: \").lower()\n",
    "    \n",
    "    # Check if entered product is in the available products list\n",
    "    if product in products:\n",
    "        customer_orders.add(product)  # Add valid product name to the customer_orders set\n",
    "        # Ask the user if they want to add more products\n",
    "        add_more = input(\"Do you want to add another product? (yes/no): \").lower()\n",
    "        if add_more != 'yes':\n",
    "            break  # Exit loop if user does not want to add more products\n",
    "    else:\n",
    "        print(\"Invalid product name. Please choose from t-shirt, mug, hat, book, keychain.\")\n",
    "\n",
    "print(\"Customer orders:\", customer_orders)"
   ]
  },
  {
   "cell_type": "code",
   "execution_count": 6,
   "id": "9f7ac86b",
   "metadata": {},
   "outputs": [
    {
     "name": "stdout",
     "output_type": "stream",
     "text": [
      "Order Statistics:\n",
      "Total Products Ordered: 2\n",
      "Percentage of Products Ordered: 40.00%\n",
      "Updated Inventory:\n",
      "t-shirt: 0\n",
      "mug: 1\n",
      "hat: 3\n",
      "book: 4\n",
      "keychain: 5\n"
     ]
    }
   ],
   "source": [
    "# Calculate total products ordered and the percentage of products ordered\n",
    "total_products_ordered = len(customer_orders)\n",
    "# Store the total and percentage in the order_status tuple\n",
    "percentage_of_products_ordered = (total_products_ordered / len(products)) * 100\n",
    "order_status = (total_products_ordered, percentage_of_products_ordered)\n",
    "\n",
    "# Printing order statistics\n",
    "print(\"Order Statistics:\")\n",
    "print(f\"Total Products Ordered: {total_products_ordered}\")\n",
    "print(f\"Percentage of Products Ordered: {percentage_of_products_ordered:.2f}%\")\n",
    "\n",
    "# Update the inventory only for products that have been ordered\n",
    "for product in customer_orders:\n",
    "    if product in inventory:\n",
    "        inventory[product] -= 1  # Subtract 1 from the inventory for ordered products\n",
    "\n",
    "# Print updated inventory\n",
    "print(\"Updated Inventory:\")\n",
    "for product, quantity in inventory.items():\n",
    "    print(f\"{product}: {quantity}\")"
   ]
  },
  {
   "cell_type": "code",
   "execution_count": null,
   "id": "a10cafbd",
   "metadata": {},
   "outputs": [],
   "source": []
  }
 ],
 "metadata": {
  "kernelspec": {
   "display_name": "Python 3 (ipykernel)",
   "language": "python",
   "name": "python3"
  },
  "language_info": {
   "codemirror_mode": {
    "name": "ipython",
    "version": 3
   },
   "file_extension": ".py",
   "mimetype": "text/x-python",
   "name": "python",
   "nbconvert_exporter": "python",
   "pygments_lexer": "ipython3",
   "version": "3.11.5"
  }
 },
 "nbformat": 4,
 "nbformat_minor": 5
}
